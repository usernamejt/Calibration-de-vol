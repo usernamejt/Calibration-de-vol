{
 "cells": [
  {
   "cell_type": "code",
   "execution_count": 1,
   "metadata": {},
   "outputs": [],
   "source": [
    "import pandas as pd\n",
    "import numpy as np\n",
    "\n",
    "import matplotlib.pyplot as plt\n",
    "from mpl_toolkits.mplot3d import Axes3D\n",
    "import plotly.graph_objs as go\n",
    "\n",
    "from scipy.optimize import least_squares # least squares non linear\n",
    "from scipy.optimize import NonlinearConstraint\n",
    "from scipy.optimize import minimize\n",
    "\n",
    "from scipy.integrate import quad\n",
    "from scipy import real"
   ]
  },
  {
   "cell_type": "code",
   "execution_count": 2,
   "metadata": {},
   "outputs": [],
   "source": [
    "df = pd.read_csv('data.csv')"
   ]
  },
  {
   "cell_type": "code",
   "execution_count": 3,
   "metadata": {},
   "outputs": [],
   "source": [
    "# FONCTION CHARACTERISTIQUE ln(ST) DE HESTON\n",
    "\n",
    "def chfun_heston(s0, v0, vbar, a, vvol, r, rho, t, w):\n",
    "    \"\"\"\n",
    "    Heston characteristic function.\n",
    "    Inputs:\n",
    "    s0: stock price\n",
    "    v0: initial volatility (v0^2 initial variance)\n",
    "    vbar: long-term variance mean\n",
    "    a: variance mean-reversion speed\n",
    "    vvol: volatility of the variance process\n",
    "    r : risk-free rate\n",
    "    rho: correlation between the Weiner processes for the stock price and its variance\n",
    "    t: time\n",
    "    w: points at which to evaluate the function\n",
    "    Output:\n",
    "    y: Characteristic function of log (St) in the Heston model\n",
    "    \"\"\"\n",
    "    # Interim calculations\n",
    "    alpha = -w*w/2 - 1j*w/2\n",
    "    beta = a - rho*vvol*1j*w\n",
    "    gamma = vvol*vvol/2\n",
    "    h = np.sqrt(beta*beta - 4*alpha*gamma)\n",
    "    rplus = (beta + h)/(vvol*vvol)\n",
    "    rminus = (beta - h)/(vvol*vvol)\n",
    "    g = rminus / rplus\n",
    "\n",
    "    # Required inputs for the characteristic function\n",
    "    C = a * (rminus * t - (2 / (vvol**2)) * np.log((1 - g * np.exp(-h*t))/(1 - g)))\n",
    "    D = rminus * (1 - np.exp(-h * t))/(1 - g * np.exp(-h*t))\n",
    "\n",
    "    # Characteristic function evaluated at points w\n",
    "    y = np.exp(C*vbar + D*v0 + 1j*w*np.log(s0*np.exp(r*t)))\n",
    "    return y\n"
   ]
  },
  {
   "cell_type": "code",
   "execution_count": 4,
   "metadata": {},
   "outputs": [],
   "source": [
    "# POUR AVOIR LA FORMULE DU CALL\n",
    "\n",
    "def call_heston_cf(s0, v0, vbar, a, vvol, r, rho, t, k, chfun_heston):\n",
    "    \"\"\"\n",
    "    Heston call value using characteristic functions.\n",
    "    Inputs:\n",
    "    s0: stock price\n",
    "    v0: initial volatility (v0^2 initial variance)\n",
    "    vbar: long-term variance mean\n",
    "    a: variance mean-reversion speed\n",
    "    vvol: volatility of the variance process\n",
    "    r: risk-free rate\n",
    "    rho: correlation between the Weiner processes of the stock price and its variance\n",
    "    t: time to maturity\n",
    "    k: option strike\n",
    "    chfun_heston: Heston characteristic function\n",
    "    Output:\n",
    "    y: Heston call value\n",
    "    \"\"\"\n",
    "    # Inner integral 1\n",
    "    def int1(w, s0, v0, vbar, a, vvol, r, rho, t, k):\n",
    "        return np.real(np.exp(-1j * w * np.log(k)) * chfun_heston(s0, v0, vbar, a, vvol, r, rho, t, w - 1j) /\n",
    "                       (1j * w * chfun_heston(s0, v0, vbar, a, vvol, r, rho, t, -1j)))\n",
    "    \n",
    "    int1_result, _ = quad(lambda w: int1(w, s0, v0, vbar, a, vvol, r, rho, t, k), 0, 100)\n",
    "    pi1 = int1_result / np.pi + 0.5\n",
    "\n",
    "    # Inner integral 2\n",
    "    def int2(w, s0, v0, vbar, a, vvol, r, rho, t, k):\n",
    "        return np.real(np.exp(-1j * w * np.log(k)) * chfun_heston(s0, v0, vbar, a, vvol, r, rho, t, w) / (1j * w))\n",
    "    \n",
    "    int2_result, _ = quad(lambda w: int2(w, s0, v0, vbar, a, vvol, r, rho, t, k), 0, 100)\n",
    "    pi2 = int2_result / np.pi + 0.5\n",
    "\n",
    "    # Calculate call value\n",
    "    y = s0 * pi1 - np.exp(-r * t) * k * pi2\n",
    "    return y"
   ]
  },
  {
   "cell_type": "code",
   "execution_count": null,
   "metadata": {},
   "outputs": [],
   "source": []
  }
 ],
 "metadata": {
  "kernelspec": {
   "display_name": "Python 3",
   "language": "python",
   "name": "python3"
  },
  "language_info": {
   "codemirror_mode": {
    "name": "ipython",
    "version": 3
   },
   "file_extension": ".py",
   "mimetype": "text/x-python",
   "name": "python",
   "nbconvert_exporter": "python",
   "pygments_lexer": "ipython3",
   "version": "3.10.4"
  }
 },
 "nbformat": 4,
 "nbformat_minor": 2
}
