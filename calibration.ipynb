{
 "cells": [
  {
   "cell_type": "code",
   "execution_count": 1,
   "metadata": {},
   "outputs": [],
   "source": [
    "import pandas as pd\n",
    "import numpy as np\n",
    "\n",
    "import matplotlib.pyplot as plt\n",
    "from mpl_toolkits.mplot3d import Axes3D\n",
    "import plotly.graph_objs as go\n",
    "\n",
    "from scipy.optimize import least_squares # least squares non linear\n",
    "from scipy.optimize import NonlinearConstraint\n",
    "\n",
    "from scipy.integrate import quad\n",
    "from scipy import real"
   ]
  },
  {
   "cell_type": "code",
   "execution_count": 2,
   "metadata": {},
   "outputs": [],
   "source": [
    "from ipywidgets import interact, FloatSlider"
   ]
  },
  {
   "cell_type": "code",
   "execution_count": 3,
   "metadata": {},
   "outputs": [],
   "source": [
    "from scipy.optimize import minimize"
   ]
  },
  {
   "cell_type": "markdown",
   "metadata": {},
   "source": [
    "### On charge la base de donnée"
   ]
  },
  {
   "cell_type": "code",
   "execution_count": 4,
   "metadata": {},
   "outputs": [],
   "source": [
    "df = pd.read_csv('data.csv')"
   ]
  },
  {
   "cell_type": "code",
   "execution_count": 5,
   "metadata": {},
   "outputs": [
    {
     "name": "stderr",
     "output_type": "stream",
     "text": [
      "C:\\Users\\Jason\\AppData\\Local\\Temp\\ipykernel_9316\\754857953.py:1: SettingWithCopyWarning: \n",
      "A value is trying to be set on a copy of a slice from a DataFrame\n",
      "\n",
      "See the caveats in the documentation: https://pandas.pydata.org/pandas-docs/stable/user_guide/indexing.html#returning-a-view-versus-a-copy\n",
      "  df['Strike'].iloc[29] = 45\n"
     ]
    }
   ],
   "source": [
    "df['Strike'].iloc[29] = 45"
   ]
  },
  {
   "cell_type": "code",
   "execution_count": 6,
   "metadata": {},
   "outputs": [],
   "source": [
    "def call(S, K, r, T, pi1, pi2):\n",
    "    return S*pi1 - K*np.exp(-r*T)*pi2"
   ]
  },
  {
   "cell_type": "code",
   "execution_count": 7,
   "metadata": {},
   "outputs": [
    {
     "data": {
      "text/plain": [
       "18.593288256394402"
      ]
     },
     "execution_count": 7,
     "metadata": {},
     "output_type": "execute_result"
    }
   ],
   "source": [
    "call(39.63,36,0.05,0.049315,5,5)"
   ]
  },
  {
   "cell_type": "code",
   "execution_count": 8,
   "metadata": {},
   "outputs": [
    {
     "data": {
      "text/html": [
       "<div>\n",
       "<style scoped>\n",
       "    .dataframe tbody tr th:only-of-type {\n",
       "        vertical-align: middle;\n",
       "    }\n",
       "\n",
       "    .dataframe tbody tr th {\n",
       "        vertical-align: top;\n",
       "    }\n",
       "\n",
       "    .dataframe thead th {\n",
       "        text-align: right;\n",
       "    }\n",
       "</style>\n",
       "<table border=\"1\" class=\"dataframe\">\n",
       "  <thead>\n",
       "    <tr style=\"text-align: right;\">\n",
       "      <th></th>\n",
       "      <th>Spot</th>\n",
       "      <th>Maturity</th>\n",
       "      <th>Strike</th>\n",
       "      <th>Interest_rate</th>\n",
       "      <th>Mid</th>\n",
       "      <th>Bid</th>\n",
       "      <th>Ask</th>\n",
       "    </tr>\n",
       "  </thead>\n",
       "  <tbody>\n",
       "    <tr>\n",
       "      <th>0</th>\n",
       "      <td>39.63</td>\n",
       "      <td>0.049315</td>\n",
       "      <td>36</td>\n",
       "      <td>0.000632</td>\n",
       "      <td>3.75</td>\n",
       "      <td>3.7</td>\n",
       "      <td>3.8</td>\n",
       "    </tr>\n",
       "  </tbody>\n",
       "</table>\n",
       "</div>"
      ],
      "text/plain": [
       "    Spot  Maturity  Strike  Interest_rate   Mid  Bid  Ask\n",
       "0  39.63  0.049315      36       0.000632  3.75  3.7  3.8"
      ]
     },
     "execution_count": 8,
     "metadata": {},
     "output_type": "execute_result"
    }
   ],
   "source": [
    "df.head(1)"
   ]
  },
  {
   "cell_type": "markdown",
   "metadata": {},
   "source": [
    "### PREMIERE PARTIE : On minimise $\\Pi_1$ et $\\Pi_2$"
   ]
  },
  {
   "cell_type": "code",
   "execution_count": 9,
   "metadata": {},
   "outputs": [
    {
     "ename": "NameError",
     "evalue": "name 'mse' is not defined",
     "output_type": "error",
     "traceback": [
      "\u001b[1;31m---------------------------------------------------------------------------\u001b[0m",
      "\u001b[1;31mNameError\u001b[0m                                 Traceback (most recent call last)",
      "Input \u001b[1;32mIn [9]\u001b[0m, in \u001b[0;36m<cell line: 4>\u001b[1;34m()\u001b[0m\n\u001b[0;32m      6\u001b[0m     pi1, pi2 \u001b[38;5;241m=\u001b[39m params\n\u001b[0;32m      7\u001b[0m     \u001b[38;5;28;01mreturn\u001b[39;00m (call(df[\u001b[38;5;124m'\u001b[39m\u001b[38;5;124mSpot\u001b[39m\u001b[38;5;124m'\u001b[39m]\u001b[38;5;241m.\u001b[39miloc[i], df[\u001b[38;5;124m'\u001b[39m\u001b[38;5;124mStrike\u001b[39m\u001b[38;5;124m'\u001b[39m]\u001b[38;5;241m.\u001b[39miloc[i], df[\u001b[38;5;124m'\u001b[39m\u001b[38;5;124mInterest_rate\u001b[39m\u001b[38;5;124m'\u001b[39m]\u001b[38;5;241m.\u001b[39miloc[i], df[\u001b[38;5;124m'\u001b[39m\u001b[38;5;124mMaturity\u001b[39m\u001b[38;5;124m'\u001b[39m]\u001b[38;5;241m.\u001b[39miloc[i], pi1, pi2) \u001b[38;5;241m-\u001b[39m df[\u001b[38;5;124m'\u001b[39m\u001b[38;5;124mMid\u001b[39m\u001b[38;5;124m'\u001b[39m]\u001b[38;5;241m.\u001b[39miloc[i])\u001b[38;5;241m*\u001b[39m\u001b[38;5;241m*\u001b[39m\u001b[38;5;241m2\u001b[39m\n\u001b[1;32m----> 8\u001b[0m result \u001b[38;5;241m=\u001b[39m least_squares(\u001b[43mmse\u001b[49m, initial_guess)\n\u001b[0;32m      9\u001b[0m p_1\u001b[38;5;241m.\u001b[39mappend(result\u001b[38;5;241m.\u001b[39mx[\u001b[38;5;241m0\u001b[39m])\n\u001b[0;32m     10\u001b[0m p_2\u001b[38;5;241m.\u001b[39mappend(result\u001b[38;5;241m.\u001b[39mx[\u001b[38;5;241m1\u001b[39m])\n",
      "\u001b[1;31mNameError\u001b[0m: name 'mse' is not defined"
     ]
    }
   ],
   "source": [
    "p_1 = []\n",
    "p_2 = []\n",
    "initial_guess = [1.0, 1.0]\n",
    "for i in range(df.shape[0]):\n",
    "    def cost_pi(params):\n",
    "        pi1, pi2 = params\n",
    "        return (call(df['Spot'].iloc[i], df['Strike'].iloc[i], df['Interest_rate'].iloc[i], df['Maturity'].iloc[i], pi1, pi2) - df['Mid'].iloc[i])**2\n",
    "    result = least_squares(mse, initial_guess)\n",
    "    p_1.append(result.x[0])\n",
    "    p_2.append(result.x[1])"
   ]
  },
  {
   "cell_type": "code",
   "execution_count": 35,
   "metadata": {},
   "outputs": [
    {
     "data": {
      "text/plain": [
       "[0.8689113511024426,\n",
       " 0.8689113511024426,\n",
       " 0.8689113511024426,\n",
       " 0.8689113511024426,\n",
       " 0.8689113511024426,\n",
       " 0.8689113511024426,\n",
       " 0.8689113511024426,\n",
       " 0.8689113511024426,\n",
       " 0.8689113511024426,\n",
       " 0.8689113511024426,\n",
       " 0.8689113511024426,\n",
       " 0.8689113511024426,\n",
       " 0.8689113511024426,\n",
       " 0.8689113511024426,\n",
       " 0.8689113511024426,\n",
       " 0.8689113511024426,\n",
       " 0.8689113511024426,\n",
       " 0.8689113511024426,\n",
       " 0.8689113511024426,\n",
       " 0.8689113511024426,\n",
       " 0.8689113511024426,\n",
       " 0.8689113511024426,\n",
       " 0.8689113511024426,\n",
       " 0.8689113511024426,\n",
       " 0.8689113511024426,\n",
       " 0.8689113511024426,\n",
       " 0.8689113511024426,\n",
       " 0.8689113511024426,\n",
       " 0.8689113511024426,\n",
       " 0.8689113511024426]"
      ]
     },
     "execution_count": 35,
     "metadata": {},
     "output_type": "execute_result"
    }
   ],
   "source": [
    "p_1"
   ]
  },
  {
   "cell_type": "code",
   "execution_count": 38,
   "metadata": {},
   "outputs": [
    {
     "data": {
      "text/plain": [
       "0.868911351102443"
      ]
     },
     "execution_count": 38,
     "metadata": {},
     "output_type": "execute_result"
    }
   ],
   "source": [
    "sum(p_1)/len(p_1)"
   ]
  },
  {
   "cell_type": "code",
   "execution_count": 39,
   "metadata": {},
   "outputs": [
    {
     "data": {
      "text/plain": [
       "[0.7540375381868223,\n",
       " 0.7540375381868223,\n",
       " 0.7540375381868223,\n",
       " 0.7540375381868223,\n",
       " 0.7540375381868223,\n",
       " 0.7540375381868223,\n",
       " 0.7540375381868223,\n",
       " 0.7540375381868223,\n",
       " 0.7540375381868223,\n",
       " 0.7540375381868223,\n",
       " 0.7540375381868223,\n",
       " 0.7540375381868223,\n",
       " 0.7540375381868223,\n",
       " 0.7540375381868223,\n",
       " 0.7540375381868223,\n",
       " 0.7540375381868223,\n",
       " 0.7540375381868223,\n",
       " 0.7540375381868223,\n",
       " 0.7540375381868223,\n",
       " 0.7540375381868223,\n",
       " 0.7540375381868223,\n",
       " 0.7540375381868223,\n",
       " 0.7540375381868223,\n",
       " 0.7540375381868223,\n",
       " 0.7540375381868223,\n",
       " 0.7540375381868223,\n",
       " 0.7540375381868223,\n",
       " 0.7540375381868223,\n",
       " 0.7540375381868223,\n",
       " 0.7540375381868223]"
      ]
     },
     "execution_count": 39,
     "metadata": {},
     "output_type": "execute_result"
    }
   ],
   "source": [
    "p_2"
   ]
  },
  {
   "cell_type": "code",
   "execution_count": 40,
   "metadata": {},
   "outputs": [
    {
     "data": {
      "text/plain": [
       "0.754037538186822"
      ]
     },
     "execution_count": 40,
     "metadata": {},
     "output_type": "execute_result"
    }
   ],
   "source": [
    "sum(p_2)/len(p_2)"
   ]
  },
  {
   "cell_type": "markdown",
   "metadata": {},
   "source": [
    "### Première partie : On implémente la méthode least square non linear"
   ]
  },
  {
   "cell_type": "code",
   "execution_count": 10,
   "metadata": {},
   "outputs": [],
   "source": [
    "def mse(params):\n",
    "    pi1, pi2 = params\n",
    "    s=0\n",
    "    for i in range(df.shape[0]):\n",
    "        # call(S, K, r, T, pi1, pi2)\n",
    "        s += (call(39.63,df['Strike'].iloc[i],df['Interest_rate'].iloc[i],df['Maturity'].iloc[i],pi1,pi2) - df['Mid'].iloc[i])**2\n",
    "    return s/df.shape[0]"
   ]
  },
  {
   "cell_type": "code",
   "execution_count": 11,
   "metadata": {},
   "outputs": [],
   "source": [
    "initial_guess = [1.0, 1.0]\n",
    "\n",
    "# Utilisation de least_squares pour minimiser mse\n",
    "result = least_squares(mse, initial_guess)\n",
    "\n",
    "# Les paramètres ajustés sont dans result.x\n",
    "pi1_optimal, pi2_optimal = result.x"
   ]
  },
  {
   "cell_type": "code",
   "execution_count": 12,
   "metadata": {},
   "outputs": [
    {
     "name": "stdout",
     "output_type": "stream",
     "text": [
      "0.8689113511024426\n",
      "0.7540375381868223\n"
     ]
    }
   ],
   "source": [
    "print(pi1_optimal)\n",
    "print(pi2_optimal)"
   ]
  },
  {
   "cell_type": "code",
   "execution_count": 13,
   "metadata": {},
   "outputs": [
    {
     "data": {
      "text/plain": [
       "5.553772390704269"
      ]
     },
     "execution_count": 13,
     "metadata": {},
     "output_type": "execute_result"
    }
   ],
   "source": [
    "mse([0.8689113511024,0.7540375381868223])"
   ]
  },
  {
   "cell_type": "code",
   "execution_count": 37,
   "metadata": {},
   "outputs": [
    {
     "data": {
      "application/vnd.jupyter.widget-view+json": {
       "model_id": "6c3a779bbecb44bebe6dd90729bf679f",
       "version_major": 2,
       "version_minor": 0
      },
      "text/plain": [
       "interactive(children=(FloatSlider(value=0.5, description='pi1', max=1.0, step=0.01), FloatSlider(value=0.5, de…"
      ]
     },
     "metadata": {},
     "output_type": "display_data"
    },
    {
     "data": {
      "text/plain": [
       "<function __main__.plot_surface(pi1, pi2)>"
      ]
     },
     "execution_count": 37,
     "metadata": {},
     "output_type": "execute_result"
    }
   ],
   "source": [
    "pi1_values = np.linspace(0, 1, 100)\n",
    "pi2_values = np.linspace(0, 1, 100)\n",
    "\n",
    "# Créer une grille de valeurs pour pi1 et pi2\n",
    "pi1_grid, pi2_grid = np.meshgrid(pi1_values, pi2_values)\n",
    "\n",
    "# Calculer la MSE pour chaque paire de pi1 et pi2\n",
    "mse_values = np.zeros_like(pi1_grid)\n",
    "for i in range(len(pi1_values)):\n",
    "    for j in range(len(pi2_values)):\n",
    "        mse_values[i, j] = mse([pi1_values[i], pi2_values[j]])\n",
    "\n",
    "# Définir une fonction pour afficher la surface de MSE\n",
    "def plot_surface(pi1, pi2):\n",
    "    fig = plt.figure(figsize=(10, 6))\n",
    "    ax = fig.add_subplot(111, projection='3d')\n",
    "    ax.plot_surface(pi1_grid, pi2_grid, mse_values, cmap='viridis')\n",
    "    ax.set_xlabel('pi1')\n",
    "    ax.set_ylabel('pi2')\n",
    "    ax.set_zlabel('Cost')\n",
    "    ax.set_title('Cost function')\n",
    "    ax.scatter(pi1, pi2, mse([pi1, pi2]), color='red', s=100, label='Current Point')\n",
    "    ax.legend()\n",
    "    plt.show()\n",
    "\n",
    "# Utiliser ipywidgets pour créer des curseurs interactifs\n",
    "pi1_slider = FloatSlider(value=0.5, min=0, max=1, step=0.01, description='pi1')\n",
    "pi2_slider = FloatSlider(value=0.5, min=0, max=1, step=0.01, description='pi2')\n",
    "\n",
    "# Créer une fonction interactive\n",
    "interact(plot_surface, pi1=pi1_slider, pi2=pi2_slider)"
   ]
  },
  {
   "cell_type": "code",
   "execution_count": 15,
   "metadata": {},
   "outputs": [],
   "source": [
    "def fonction_char(w,T, params):\n",
    "    v0, vbar, a, eta, rho = params\n",
    "\n",
    "    gamma = (eta**2)/2\n",
    "    beta = a - rho*eta*1j*w\n",
    "    alpha = - w**2/2 - (w*1j)/2\n",
    "    h = np.sqrt(beta**2 - 4*alpha*gamma)\n",
    "    rplus = (beta + h)/(eta**2)\n",
    "    rmoins = (beta - h)/(eta**2)\n",
    "    g = rmoins/rplus\n",
    "    D = rmoins * (1 - np.exp(-h*T))/(1-g*np.exp(-h*T))\n",
    "    C = a*(rmoins*T - (2/eta**2)*np.log((1-g*np.exp(-h*T))/(1 - np.exp(-h*T))))\n",
    "    return np.exp(C*vbar + D*v0 + 1j*w*np.log(39.63*np.exp(0.05*T)))\n",
    "\n"
   ]
  },
  {
   "cell_type": "code",
   "execution_count": 15,
   "metadata": {},
   "outputs": [
    {
     "data": {
      "text/plain": [
       "(0.11230109265115475-0.016004940604935458j)"
      ]
     },
     "execution_count": 15,
     "metadata": {},
     "output_type": "execute_result"
    }
   ],
   "source": [
    "fonction_char(5,0.04, [0.09,0.3,0.7,0.7,-0.3])"
   ]
  },
  {
   "cell_type": "code",
   "execution_count": 16,
   "metadata": {},
   "outputs": [],
   "source": [
    "def get_pi1_pi2(params):\n",
    "    v0, vbar, a, eta, rho = params\n",
    "\n",
    "    integrand = lambda omega: real((np.exp(-1j * omega * np.log(36)) * fonction_char(omega - 1j, 0.04, params)) / (1j * omega * fonction_char(omega, 0.04, params)))\n",
    "    p1, _ = quad(integrand, 0, 500)\n",
    "    return p1 - 0.9308594861779931\n",
    "    "
   ]
  },
  {
   "cell_type": "code",
   "execution_count": 17,
   "metadata": {},
   "outputs": [
    {
     "name": "stderr",
     "output_type": "stream",
     "text": [
      "C:\\Users\\Jason\\AppData\\Local\\Temp\\ipykernel_16516\\1571045818.py:4: DeprecationWarning: scipy.real is deprecated and will be removed in SciPy 2.0.0, use numpy.real instead\n",
      "  integrand = lambda omega: real((np.exp(-1j * omega * np.log(36)) * fonction_char(omega - 1j, 0.04, params)) / (1j * omega * fonction_char(omega, 0.04, params)))\n",
      "C:\\Users\\Jason\\AppData\\Local\\Temp\\ipykernel_16516\\1571045818.py:5: IntegrationWarning: The maximum number of subdivisions (50) has been achieved.\n",
      "  If increasing the limit yields no improvement it is advised to analyze \n",
      "  the integrand in order to determine the difficulties.  If the position of a \n",
      "  local difficulty can be determined (singularity, discontinuity) one will \n",
      "  probably gain from splitting up the interval and calling the integrator \n",
      "  on the subranges.  Perhaps a special-purpose integrator should be used.\n",
      "  p1, _ = quad(integrand, 0, 500)\n"
     ]
    },
    {
     "data": {
      "text/plain": [
       "-63.82716089356176"
      ]
     },
     "execution_count": 17,
     "metadata": {},
     "output_type": "execute_result"
    }
   ],
   "source": [
    "get_pi1_pi2([0.5,0.5,0.5,0.5,0])"
   ]
  },
  {
   "cell_type": "code",
   "execution_count": 18,
   "metadata": {},
   "outputs": [
    {
     "name": "stderr",
     "output_type": "stream",
     "text": [
      "C:\\Users\\Jason\\AppData\\Local\\Temp\\ipykernel_16516\\1571045818.py:4: DeprecationWarning: scipy.real is deprecated and will be removed in SciPy 2.0.0, use numpy.real instead\n",
      "  integrand = lambda omega: real((np.exp(-1j * omega * np.log(36)) * fonction_char(omega - 1j, 0.04, params)) / (1j * omega * fonction_char(omega, 0.04, params)))\n",
      "C:\\Users\\Jason\\AppData\\Local\\Temp\\ipykernel_16516\\1571045818.py:5: IntegrationWarning: The maximum number of subdivisions (50) has been achieved.\n",
      "  If increasing the limit yields no improvement it is advised to analyze \n",
      "  the integrand in order to determine the difficulties.  If the position of a \n",
      "  local difficulty can be determined (singularity, discontinuity) one will \n",
      "  probably gain from splitting up the interval and calling the integrator \n",
      "  on the subranges.  Perhaps a special-purpose integrator should be used.\n",
      "  p1, _ = quad(integrand, 0, 500)\n",
      "C:\\Users\\Jason\\AppData\\Local\\Temp\\ipykernel_16516\\1571045818.py:5: IntegrationWarning: The integral is probably divergent, or slowly convergent.\n",
      "  p1, _ = quad(integrand, 0, 500)\n",
      "C:\\Users\\Jason\\AppData\\Local\\Temp\\ipykernel_16516\\1571045818.py:4: RuntimeWarning: overflow encountered in cdouble_scalars\n",
      "  integrand = lambda omega: real((np.exp(-1j * omega * np.log(36)) * fonction_char(omega - 1j, 0.04, params)) / (1j * omega * fonction_char(omega, 0.04, params)))\n",
      "C:\\Users\\Jason\\AppData\\Local\\Temp\\ipykernel_16516\\1571045818.py:4: RuntimeWarning: invalid value encountered in cdouble_scalars\n",
      "  integrand = lambda omega: real((np.exp(-1j * omega * np.log(36)) * fonction_char(omega - 1j, 0.04, params)) / (1j * omega * fonction_char(omega, 0.04, params)))\n",
      "C:\\Users\\Jason\\AppData\\Local\\Temp\\ipykernel_16516\\3030277466.py:13: RuntimeWarning: overflow encountered in exp\n",
      "  return np.exp(C*vbar + D*v0 + 1j*w*np.log(39.63*np.exp(0.05*T)))\n"
     ]
    },
    {
     "name": "stdout",
     "output_type": "stream",
     "text": [
      "Paramètres ajustés : [   0.70646699   24.61677368   17.65691963  -13.96171292 -239.4602559 ]\n"
     ]
    }
   ],
   "source": [
    "initial_guess = [0.5,0.5,0.5,0.5,0]\n",
    "\n",
    "# Minimisation de la fonction objectif\n",
    "result = minimize(get_pi1_pi2, initial_guess, method='L-BFGS-B')\n",
    "\n",
    "# Les paramètres ajustés se trouvent dans result.x\n",
    "adjusted_params = result.x\n",
    "\n",
    "# Afficher les paramètres ajustés\n",
    "print(\"Paramètres ajustés :\", adjusted_params)"
   ]
  },
  {
   "cell_type": "code",
   "execution_count": 20,
   "metadata": {},
   "outputs": [
    {
     "name": "stderr",
     "output_type": "stream",
     "text": [
      "C:\\Users\\Jason\\AppData\\Local\\Temp\\ipykernel_16516\\1571045818.py:4: DeprecationWarning: scipy.real is deprecated and will be removed in SciPy 2.0.0, use numpy.real instead\n",
      "  integrand = lambda omega: real((np.exp(-1j * omega * np.log(36)) * fonction_char(omega - 1j, 0.04, params)) / (1j * omega * fonction_char(omega, 0.04, params)))\n"
     ]
    },
    {
     "data": {
      "text/plain": [
       "-0.9308594861779931"
      ]
     },
     "execution_count": 20,
     "metadata": {},
     "output_type": "execute_result"
    }
   ],
   "source": [
    "get_pi1_pi2([   0.70646699,   24.61677368,   17.65691963,  -13.96171292, -239.4602559 ])"
   ]
  },
  {
   "cell_type": "markdown",
   "metadata": {},
   "source": [
    "### On test les fonctions du papier de recherche "
   ]
  },
  {
   "cell_type": "code",
   "execution_count": 10,
   "metadata": {},
   "outputs": [],
   "source": [
    "# FONCTION CHARACTERISTIQUE ln(ST) DE HESTON\n",
    "\n",
    "def chfun_heston(s0, v0, vbar, a, vvol, r, rho, t, w):\n",
    "    \"\"\"\n",
    "    Heston characteristic function.\n",
    "    Inputs:\n",
    "    s0: stock price\n",
    "    v0: initial volatility (v0^2 initial variance)\n",
    "    vbar: long-term variance mean\n",
    "    a: variance mean-reversion speed\n",
    "    vvol: volatility of the variance process\n",
    "    r : risk-free rate\n",
    "    rho: correlation between the Weiner processes for the stock price and its variance\n",
    "    t: time\n",
    "    w: points at which to evaluate the function\n",
    "    Output:\n",
    "    y: Characteristic function of log (St) in the Heston model\n",
    "    \"\"\"\n",
    "    # Interim calculations\n",
    "    alpha = -w*w/2 - 1j*w/2\n",
    "    beta = a - rho*vvol*1j*w\n",
    "    gamma = vvol*vvol/2\n",
    "    h = np.sqrt(beta*beta - 4*alpha*gamma)\n",
    "    rplus = (beta + h)/(vvol*vvol)\n",
    "    rminus = (beta - h)/(vvol*vvol)\n",
    "    g = rminus / rplus\n",
    "\n",
    "    # Required inputs for the characteristic function\n",
    "    C = a * (rminus * t - (2 / (vvol**2)) * np.log((1 - g * np.exp(-h*t))/(1 - g)))\n",
    "    D = rminus * (1 - np.exp(-h * t))/(1 - g * np.exp(-h*t))\n",
    "\n",
    "    # Characteristic function evaluated at points w\n",
    "    y = np.exp(C*vbar + D*v0 + 1j*w*np.log(s0*np.exp(r*t)))\n",
    "    return y\n"
   ]
  },
  {
   "cell_type": "code",
   "execution_count": 11,
   "metadata": {},
   "outputs": [
    {
     "data": {
      "text/plain": [
       "(0.859509724857016-0.4151161988552972j)"
      ]
     },
     "execution_count": 11,
     "metadata": {},
     "output_type": "execute_result"
    }
   ],
   "source": [
    "chfun_heston(39.63, 0.09, 0.3, 0.7, 0.7, 0.05, -0.3, 0.04, 5) # s0, v0, vbar, a, vvol, r, rho, t, w\n",
    "# 5,0.04, [0.09,0.3,0.7,0.7,-0.3])"
   ]
  },
  {
   "cell_type": "code",
   "execution_count": 12,
   "metadata": {},
   "outputs": [],
   "source": [
    "# POUR AVOIR LA FORMULE DU CALL\n",
    "\n",
    "def call_heston_cf(s0, v0, vbar, a, vvol, r, rho, t, k, chfun_heston):\n",
    "    \"\"\"\n",
    "    Heston call value using characteristic functions.\n",
    "    Inputs:\n",
    "    s0: stock price\n",
    "    v0: initial volatility (v0^2 initial variance)\n",
    "    vbar: long-term variance mean\n",
    "    a: variance mean-reversion speed\n",
    "    vvol: volatility of the variance process\n",
    "    r: risk-free rate\n",
    "    rho: correlation between the Weiner processes of the stock price and its variance\n",
    "    t: time to maturity\n",
    "    k: option strike\n",
    "    chfun_heston: Heston characteristic function\n",
    "    Output:\n",
    "    y: Heston call value\n",
    "    \"\"\"\n",
    "    # Inner integral 1\n",
    "    def int1(w, s0, v0, vbar, a, vvol, r, rho, t, k):\n",
    "        return np.real(np.exp(-1j * w * np.log(k)) * chfun_heston(s0, v0, vbar, a, vvol, r, rho, t, w - 1j) /\n",
    "                       (1j * w * chfun_heston(s0, v0, vbar, a, vvol, r, rho, t, -1j)))\n",
    "    \n",
    "    int1_result, _ = quad(lambda w: int1(w, s0, v0, vbar, a, vvol, r, rho, t, k), 0, 100)\n",
    "    pi1 = int1_result / np.pi + 0.5\n",
    "\n",
    "    # Inner integral 2\n",
    "    def int2(w, s0, v0, vbar, a, vvol, r, rho, t, k):\n",
    "        return np.real(np.exp(-1j * w * np.log(k)) * chfun_heston(s0, v0, vbar, a, vvol, r, rho, t, w) / (1j * w))\n",
    "    \n",
    "    int2_result, _ = quad(lambda w: int2(w, s0, v0, vbar, a, vvol, r, rho, t, k), 0, 100)\n",
    "    pi2 = int2_result / np.pi + 0.5\n",
    "\n",
    "    # Calculate call value\n",
    "    y = s0 * pi1 - np.exp(-r * t) * k * pi2\n",
    "    return y"
   ]
  },
  {
   "cell_type": "code",
   "execution_count": 47,
   "metadata": {},
   "outputs": [
    {
     "name": "stdout",
     "output_type": "stream",
     "text": [
      "0.049521147208797744\n"
     ]
    }
   ],
   "source": [
    "resultat = call_heston_cf(1, 0.16, 0.16, 1, 2, 0, -0.8, 10, 2, chfun_heston)\n",
    "\n",
    "# Affichage du résultat\n",
    "print(resultat)"
   ]
  },
  {
   "cell_type": "markdown",
   "metadata": {},
   "source": [
    "## On test least square non linear pour trouver les paramètres"
   ]
  },
  {
   "cell_type": "code",
   "execution_count": 48,
   "metadata": {},
   "outputs": [
    {
     "data": {
      "text/html": [
       "<div>\n",
       "<style scoped>\n",
       "    .dataframe tbody tr th:only-of-type {\n",
       "        vertical-align: middle;\n",
       "    }\n",
       "\n",
       "    .dataframe tbody tr th {\n",
       "        vertical-align: top;\n",
       "    }\n",
       "\n",
       "    .dataframe thead th {\n",
       "        text-align: right;\n",
       "    }\n",
       "</style>\n",
       "<table border=\"1\" class=\"dataframe\">\n",
       "  <thead>\n",
       "    <tr style=\"text-align: right;\">\n",
       "      <th></th>\n",
       "      <th>Spot</th>\n",
       "      <th>Maturity</th>\n",
       "      <th>Strike</th>\n",
       "      <th>Interest_rate</th>\n",
       "      <th>Mid</th>\n",
       "      <th>Bid</th>\n",
       "      <th>Ask</th>\n",
       "    </tr>\n",
       "  </thead>\n",
       "  <tbody>\n",
       "    <tr>\n",
       "      <th>0</th>\n",
       "      <td>39.63</td>\n",
       "      <td>0.049315</td>\n",
       "      <td>36</td>\n",
       "      <td>0.000632</td>\n",
       "      <td>3.75</td>\n",
       "      <td>3.7</td>\n",
       "      <td>3.8</td>\n",
       "    </tr>\n",
       "  </tbody>\n",
       "</table>\n",
       "</div>"
      ],
      "text/plain": [
       "    Spot  Maturity  Strike  Interest_rate   Mid  Bid  Ask\n",
       "0  39.63  0.049315      36       0.000632  3.75  3.7  3.8"
      ]
     },
     "execution_count": 48,
     "metadata": {},
     "output_type": "execute_result"
    }
   ],
   "source": [
    "df.head(1)"
   ]
  },
  {
   "cell_type": "code",
   "execution_count": 49,
   "metadata": {},
   "outputs": [],
   "source": [
    "def mse(params):\n",
    "    v0, vbar, a, eta, rho = params\n",
    "\n",
    "    # call_heston_cf(s0, v0, vbar, a, vvol, r, rho, t, k, chfun_heston)\n",
    "\n",
    "    s=0\n",
    "    for i in range(df.shape[0]):\n",
    "        s += (call_heston_cf(df['Spot'].iloc[i], v0, vbar, a, eta, df['Interest_rate'].iloc[i], rho, df['Maturity'].iloc[i], df['Strike'].iloc[i], chfun_heston) - df['Mid'].iloc[i])**2\n",
    "    return s/df.shape[0]    "
   ]
  },
  {
   "cell_type": "code",
   "execution_count": 58,
   "metadata": {},
   "outputs": [],
   "source": [
    "def constraint_function(x):\n",
    "    v0, vbar, a, eta, rho = x\n",
    "    return 2 * a * vbar - eta**2\n",
    "\n",
    "# Créer l'objet de contrainte\n",
    "constraint = NonlinearConstraint(constraint_function, lb=0, ub=np.inf)\n",
    "\n",
    "def penalized_objective(x):\n",
    "    penalty = 0\n",
    "    v0, vbar, a, eta, rho = x\n",
    "    constraint = 2 * a * vbar - eta**2\n",
    "    if constraint <= 0:\n",
    "        penalty = 1e6  # Ajoutez une pénalité très élevée\n",
    "    return mse(x) + penalty"
   ]
  },
  {
   "cell_type": "code",
   "execution_count": 59,
   "metadata": {},
   "outputs": [],
   "source": [
    "x0 = np.array([0.5, 0.5, 1, 1, -0.5]) \n",
    "lb = np.array([0, 0, 0, 0, -1])\n",
    "ub = np.array([1, 1, 20, 5, 1])\n",
    "\n",
    "res = least_squares(penalized_objective, x0, bounds=(lb, ub), method='trf', jac='3-point')"
   ]
  },
  {
   "cell_type": "code",
   "execution_count": 83,
   "metadata": {},
   "outputs": [
    {
     "data": {
      "text/plain": [
       " active_mask: array([0, 0, 0, 0, 0])\n",
       "        cost: 0.0007380403373891914\n",
       "         fun: array([0.0384198])\n",
       "        grad: array([-8.57751407e-05, -1.28182885e-04, -1.40352680e-04,  2.48143511e-04,\n",
       "       -6.56090583e-05])\n",
       "         jac: array([[-0.00223258, -0.00333638, -0.00365313,  0.00645874, -0.00170769]])\n",
       "     message: 'The maximum number of function evaluations is exceeded.'\n",
       "        nfev: 500\n",
       "        njev: 479\n",
       "  optimality: 0.0024722773225614183\n",
       "      status: 0\n",
       "     success: False\n",
       "           x: array([ 0.20281547,  0.29176096,  2.38525033,  3.84200107, -0.26687578])"
      ]
     },
     "execution_count": 83,
     "metadata": {},
     "output_type": "execute_result"
    }
   ],
   "source": [
    "res"
   ]
  },
  {
   "cell_type": "markdown",
   "metadata": {},
   "source": [
    "On trouve une volatilité de 0.20281547"
   ]
  },
  {
   "cell_type": "code",
   "execution_count": 35,
   "metadata": {},
   "outputs": [
    {
     "data": {
      "text/plain": [
       "1.0905776358953605"
      ]
     },
     "execution_count": 35,
     "metadata": {},
     "output_type": "execute_result"
    }
   ],
   "source": [
    "mse([0.0989, 0.3407, 0.7331, 0.7068, -0.2949]) # v0, vbar, a, eta, rho"
   ]
  },
  {
   "cell_type": "code",
   "execution_count": 85,
   "metadata": {},
   "outputs": [
    {
     "data": {
      "text/plain": [
       "0.038419795339863845"
      ]
     },
     "execution_count": 85,
     "metadata": {},
     "output_type": "execute_result"
    }
   ],
   "source": [
    "mse([0.20281547, 0.29176096, 2.38525033,  3.84200107, -0.26687578])"
   ]
  },
  {
   "cell_type": "markdown",
   "metadata": {},
   "source": [
    "### Smile de volatilité"
   ]
  },
  {
   "cell_type": "code",
   "execution_count": null,
   "metadata": {},
   "outputs": [],
   "source": [
    "def get_vol(K):\n",
    "    \n",
    "    s += call_heston_cf(df['Spot'].iloc[i], v0, 0.28700541, 0.78921382, 3.23844967, 0.05, 0.05721962, T, K, chfun_heston)\n",
    "\n",
    "        "
   ]
  },
  {
   "cell_type": "code",
   "execution_count": 51,
   "metadata": {},
   "outputs": [
    {
     "data": {
      "text/plain": [
       "array([36., 38., 40., 42., 44., 45.])"
      ]
     },
     "execution_count": 51,
     "metadata": {},
     "output_type": "execute_result"
    }
   ],
   "source": [
    "strike = df['Strike'].unique()\n",
    "strike"
   ]
  },
  {
   "cell_type": "code",
   "execution_count": 86,
   "metadata": {},
   "outputs": [],
   "source": [
    "y=[]\n",
    "for k in strike:\n",
    "    def cost(v0):\n",
    "        s=0\n",
    "        for i in list(df.loc[df['Strike'] == k].index):\n",
    "            # call_heston_cf(s0, v0, vbar, a, vvol, r, rho, t, k, chfun_heston)\n",
    "            s += (call_heston_cf(df['Spot'].iloc[i], v0, 0.29176096, 2.38525033, 3.84200107, df['Interest_rate'].iloc[i], -0.26687578, df['Maturity'].iloc[i], df['Strike'].iloc[i], chfun_heston) - df['Mid'].iloc[i])**2\n",
    "        return s/len(list(df.loc[df['Strike'] == k].index))\n",
    "\n",
    "    result = minimize(cost, 0.5, method='L-BFGS-B')\n",
    "\n",
    "    # Les paramètres ajustés se trouvent dans result.x\n",
    "    vol = result.x\n",
    "    y.append(vol)\n",
    "\n",
    "        "
   ]
  },
  {
   "cell_type": "code",
   "execution_count": 87,
   "metadata": {},
   "outputs": [
    {
     "data": {
      "text/plain": [
       "6"
      ]
     },
     "execution_count": 87,
     "metadata": {},
     "output_type": "execute_result"
    }
   ],
   "source": [
    "len(y)"
   ]
  },
  {
   "cell_type": "code",
   "execution_count": 89,
   "metadata": {},
   "outputs": [
    {
     "data": {
      "image/png": "[encoded data removed]",
      "text/plain": [
       "<Figure size 432x288 with 1 Axes>"
      ]
     },
     "metadata": {
      "needs_background": "light"
     },
     "output_type": "display_data"
    }
   ],
   "source": [
    "plt.plot(strike, y, marker='o', linestyle='-')\n",
    "\n",
    "# Ajouter des labels et un titre\n",
    "plt.xlabel('Strike')\n",
    "plt.ylabel('Volatilité')\n",
    "plt.title('Graphique du deuxième élément en fonction du premier')\n",
    "\n",
    "# Afficher le graphique\n",
    "plt.grid(True)\n",
    "plt.show()"
   ]
  },
  {
   "cell_type": "markdown",
   "metadata": {},
   "source": [
    "### Grapher le mse en fonction de la volatilité pour se rendre compte de la convexité"
   ]
  },
  {
   "cell_type": "code",
   "execution_count": 90,
   "metadata": {},
   "outputs": [],
   "source": [
    "def mse1(v0):\n",
    "    s=0\n",
    "    for i in range(df.shape[0]):\n",
    "        s += (call_heston_cf(df['Spot'].iloc[i], v0, 0.29176096, 2.38525033, 3.84200107, df['Interest_rate'].iloc[i], -0.26687578, df['Maturity'].iloc[i], df['Strike'].iloc[i], chfun_heston) - df['Mid'].iloc[i])**2\n",
    "    return s/df.shape[0]"
   ]
  },
  {
   "cell_type": "code",
   "execution_count": 91,
   "metadata": {},
   "outputs": [
    {
     "data": {
      "image/png": "[encoded data removed]",
      "text/plain": [
       "<Figure size 432x288 with 1 Axes>"
      ]
     },
     "metadata": {
      "needs_background": "light"
     },
     "output_type": "display_data"
    }
   ],
   "source": [
    "v0_values = np.linspace(0, 1, 100)  # Vous pouvez ajuster la plage selon vos besoins\n",
    "\n",
    "# Calculer les valeurs de mse1(v0)\n",
    "mse_values = [mse1(v0) for v0 in v0_values]\n",
    "\n",
    "# Créer le graphique\n",
    "plt.plot(v0_values, mse_values)\n",
    "plt.xlabel('volatilité')\n",
    "plt.ylabel('mse1')\n",
    "plt.title('Graphique de mse en fonction de la vol')\n",
    "plt.grid(True)\n",
    "plt.show()"
   ]
  },
  {
   "cell_type": "markdown",
   "metadata": {},
   "source": [
    "### Calibration en minimisant Pi1 et Pi2"
   ]
  },
  {
   "cell_type": "code",
   "execution_count": 19,
   "metadata": {},
   "outputs": [],
   "source": [
    "def get_pi1(s0, v0, vbar, a, vvol, r, rho, t, k, chfun_heston):\n",
    "    # Inner integral 1\n",
    "    def int1(w, s0, v0, vbar, a, vvol, r, rho, t, k):\n",
    "        return np.real(np.exp(-1j * w * np.log(k)) * chfun_heston(s0, v0, vbar, a, vvol, r, rho, t, w - 1j) /\n",
    "                       (1j * w * chfun_heston(s0, v0, vbar, a, vvol, r, rho, t, -1j)))\n",
    "    \n",
    "    int1_result, _ = quad(lambda w: int1(w, s0, v0, vbar, a, vvol, r, rho, t, k), 0, 100)\n",
    "    pi1 = int1_result / np.pi + 0.5\n",
    "    return pi1\n",
    "\n",
    "def get_pi2(s0, v0, vbar, a, vvol, r, rho, t, k, chfun_heston):\n",
    "    # Inner integral 2\n",
    "    def int2(w, s0, v0, vbar, a, vvol, r, rho, t, k):\n",
    "        return np.real(np.exp(-1j * w * np.log(k)) * chfun_heston(s0, v0, vbar, a, vvol, r, rho, t, w) / (1j * w))\n",
    "    \n",
    "    int2_result, _ = quad(lambda w: int2(w, s0, v0, vbar, a, vvol, r, rho, t, k), 0, 100)\n",
    "    pi2 = int2_result / np.pi + 0.5\n",
    "    return pi2"
   ]
  },
  {
   "cell_type": "code",
   "execution_count": 20,
   "metadata": {},
   "outputs": [
    {
     "name": "stdout",
     "output_type": "stream",
     "text": [
      "pi2 =  0.4367975040807644\n"
     ]
    }
   ],
   "source": [
    "p2 = 0\n",
    "for i in range(df.shape[0]):\n",
    "    p2 += get_pi2(df['Spot'].iloc[i], 0.5, 0.5, 1, 1, df['Interest_rate'].iloc[i], -0.5, df['Maturity'].iloc[i], df['Strike'].iloc[i], chfun_heston)\n",
    "p2 = p2/df.shape[0]\n",
    "print('pi2 = ', p2)"
   ]
  },
  {
   "cell_type": "markdown",
   "metadata": {},
   "source": [
    "rappel : on a obtenu pi1 = 0.87 et pi2 = 0.75"
   ]
  },
  {
   "cell_type": "code",
   "execution_count": 21,
   "metadata": {},
   "outputs": [],
   "source": [
    "def cost2(params):\n",
    "    v0, vbar, a, vvol, rho = params\n",
    "\n",
    "    p1=0\n",
    "    for i in range(df.shape[0]):\n",
    "        p1 += get_pi1(df['Spot'].iloc[i], v0, vbar, a, vvol, df['Interest_rate'].iloc[i], rho, df['Maturity'].iloc[i], df['Strike'].iloc[i], chfun_heston)\n",
    "    p1 = p1/df.shape[0]\n",
    "    #print('pi1 = ', p1)\n",
    "\n",
    "    p2=0\n",
    "    for i in range(df.shape[0]):\n",
    "        p2 += get_pi2(df['Spot'].iloc[i], v0, vbar, a, vvol, df['Interest_rate'].iloc[i], rho, df['Maturity'].iloc[i], df['Strike'].iloc[i], chfun_heston)\n",
    "    p2 = p2/df.shape[0]\n",
    "    #print('pi2 = ', p2)\n",
    "\n",
    "    mean = (p1 + p2)/2\n",
    "    mean_obs = (0.87+0.75)/2\n",
    "\n",
    "    return abs(mean - mean_obs)"
   ]
  },
  {
   "cell_type": "code",
   "execution_count": 22,
   "metadata": {},
   "outputs": [
    {
     "data": {
      "text/plain": [
       "0.28277119137226603"
      ]
     },
     "execution_count": 22,
     "metadata": {},
     "output_type": "execute_result"
    }
   ],
   "source": [
    "cost2([0.5, 0.5, 1, 1, -0.5])"
   ]
  },
  {
   "cell_type": "code",
   "execution_count": 23,
   "metadata": {},
   "outputs": [
    {
     "name": "stderr",
     "output_type": "stream",
     "text": [
      "C:\\Users\\Jason\\AppData\\Local\\Temp\\ipykernel_1804\\14816526.py:7: IntegrationWarning: The maximum number of subdivisions (50) has been achieved.\n",
      "  If increasing the limit yields no improvement it is advised to analyze \n",
      "  the integrand in order to determine the difficulties.  If the position of a \n",
      "  local difficulty can be determined (singularity, discontinuity) one will \n",
      "  probably gain from splitting up the interval and calling the integrator \n",
      "  on the subranges.  Perhaps a special-purpose integrator should be used.\n",
      "  int1_result, _ = quad(lambda w: int1(w, s0, v0, vbar, a, vvol, r, rho, t, k), 0, 100)\n",
      "C:\\Users\\Jason\\AppData\\Local\\Temp\\ipykernel_1804\\14816526.py:16: IntegrationWarning: The integral is probably divergent, or slowly convergent.\n",
      "  int2_result, _ = quad(lambda w: int2(w, s0, v0, vbar, a, vvol, r, rho, t, k), 0, 100)\n",
      "C:\\Users\\Jason\\AppData\\Local\\Temp\\ipykernel_1804\\14816526.py:16: IntegrationWarning: The maximum number of subdivisions (50) has been achieved.\n",
      "  If increasing the limit yields no improvement it is advised to analyze \n",
      "  the integrand in order to determine the difficulties.  If the position of a \n",
      "  local difficulty can be determined (singularity, discontinuity) one will \n",
      "  probably gain from splitting up the interval and calling the integrator \n",
      "  on the subranges.  Perhaps a special-purpose integrator should be used.\n",
      "  int2_result, _ = quad(lambda w: int2(w, s0, v0, vbar, a, vvol, r, rho, t, k), 0, 100)\n",
      "C:\\Users\\Jason\\AppData\\Local\\Temp\\ipykernel_1804\\14816526.py:7: IntegrationWarning: The occurrence of roundoff error is detected, which prevents \n",
      "  the requested tolerance from being achieved.  The error may be \n",
      "  underestimated.\n",
      "  int1_result, _ = quad(lambda w: int1(w, s0, v0, vbar, a, vvol, r, rho, t, k), 0, 100)\n",
      "C:\\Users\\Jason\\AppData\\Local\\Temp\\ipykernel_1804\\1780277273.py:26: RuntimeWarning: divide by zero encountered in cdouble_scalars\n",
      "  g = rminus / rplus\n",
      "C:\\Users\\Jason\\AppData\\Local\\Temp\\ipykernel_1804\\1780277273.py:26: RuntimeWarning: invalid value encountered in cdouble_scalars\n",
      "  g = rminus / rplus\n",
      "C:\\Users\\Jason\\AppData\\Local\\Temp\\ipykernel_1804\\1780277273.py:29: RuntimeWarning: invalid value encountered in cdouble_scalars\n",
      "  C = a * (rminus * t - (2 / (vvol**2)) * np.log((1 - g * np.exp(-h*t))/(1 - g)))\n",
      "C:\\Users\\Jason\\AppData\\Local\\Temp\\ipykernel_1804\\1780277273.py:29: RuntimeWarning: invalid value encountered in log\n",
      "  C = a * (rminus * t - (2 / (vvol**2)) * np.log((1 - g * np.exp(-h*t))/(1 - g)))\n",
      "C:\\Users\\Jason\\AppData\\Local\\Temp\\ipykernel_1804\\1780277273.py:30: RuntimeWarning: invalid value encountered in cdouble_scalars\n",
      "  D = rminus * (1 - np.exp(-h * t))/(1 - g * np.exp(-h*t))\n",
      "C:\\Users\\Jason\\AppData\\Local\\Temp\\ipykernel_1804\\14816526.py:4: RuntimeWarning: invalid value encountered in cdouble_scalars\n",
      "  return np.real(np.exp(-1j * w * np.log(k)) * chfun_heston(s0, v0, vbar, a, vvol, r, rho, t, w - 1j) /\n",
      "C:\\Users\\Jason\\AppData\\Local\\Temp\\ipykernel_1804\\14816526.py:16: IntegrationWarning: The algorithm does not converge.  Roundoff error is detected\n",
      "  in the extrapolation table.  It is assumed that the requested tolerance\n",
      "  cannot be achieved, and that the returned result (if full_output = 1) is \n",
      "  the best which can be obtained.\n",
      "  int2_result, _ = quad(lambda w: int2(w, s0, v0, vbar, a, vvol, r, rho, t, k), 0, 100)\n",
      "C:\\Users\\Jason\\AppData\\Local\\Temp\\ipykernel_1804\\1780277273.py:33: RuntimeWarning: overflow encountered in exp\n",
      "  y = np.exp(C*vbar + D*v0 + 1j*w*np.log(s0*np.exp(r*t)))\n",
      "C:\\Users\\Jason\\AppData\\Local\\Temp\\ipykernel_1804\\14816526.py:16: IntegrationWarning: The occurrence of roundoff error is detected, which prevents \n",
      "  the requested tolerance from being achieved.  The error may be \n",
      "  underestimated.\n",
      "  int2_result, _ = quad(lambda w: int2(w, s0, v0, vbar, a, vvol, r, rho, t, k), 0, 100)\n"
     ]
    },
    {
     "name": "stdout",
     "output_type": "stream",
     "text": [
      "      fun: nan\n",
      " hess_inv: <5x5 LbfgsInvHessProduct with dtype=float64>\n",
      "      jac: array([ 4.30092723, -0.04797126, -0.22459753,  4.60722889,  9.13003578])\n",
      "  message: 'ABNORMAL_TERMINATION_IN_LNSRCH'\n",
      "     nfev: 438\n",
      "      nit: 7\n",
      "     njev: 73\n",
      "   status: 2\n",
      "  success: False\n",
      "        x: array([ 0.36310363,  0.32264635,  0.89035402,  1.40894115, -1.37344747])\n"
     ]
    }
   ],
   "source": [
    "x0 = np.array([0.5, 0.5, 1, 1, -0.5]) \n",
    "lb = np.array([0, 0, 0, 0, -1])\n",
    "ub = np.array([1, 1, 20, 5, 1])\n",
    "\n",
    "result = minimize(cost2, x0, method='L-BFGS-B')\n",
    "print(result)"
   ]
  },
  {
   "cell_type": "code",
   "execution_count": 24,
   "metadata": {},
   "outputs": [],
   "source": [
    "x0 = np.array([0.5, 0.5, 1, 1, -0.5]) \n",
    "bounds = ((0, 1), (0, 1), (0,20), (0,5), (-1,1))\n",
    "\n",
    "result = minimize(cost2, x0, bounds=bounds)"
   ]
  },
  {
   "cell_type": "code",
   "execution_count": 25,
   "metadata": {},
   "outputs": [
    {
     "data": {
      "text/plain": [
       "      fun: 0.05350121183302248\n",
       " hess_inv: <5x5 LbfgsInvHessProduct with dtype=float64>\n",
       "      jac: array([-2.50910402e-06,  0.00000000e+00,  1.41809564e-02, -8.22419915e-03,\n",
       "        1.39868864e+00])\n",
       "  message: 'CONVERGENCE: NORM_OF_PROJECTED_GRADIENT_<=_PGTOL'\n",
       "     nfev: 144\n",
       "      nit: 16\n",
       "     njev: 24\n",
       "   status: 0\n",
       "  success: True\n",
       "        x: array([ 0.76918814,  0.09510544,  0.        ,  5.        , -1.        ])"
      ]
     },
     "execution_count": 25,
     "metadata": {},
     "output_type": "execute_result"
    }
   ],
   "source": [
    "result"
   ]
  },
  {
   "cell_type": "code",
   "execution_count": 26,
   "metadata": {},
   "outputs": [
    {
     "data": {
      "text/plain": [
       "0.05350121183301626"
      ]
     },
     "execution_count": 26,
     "metadata": {},
     "output_type": "execute_result"
    }
   ],
   "source": [
    "cost2([ 0.76918814,  0.09510544,  0.        ,  5.        , -1.        ])"
   ]
  },
  {
   "cell_type": "code",
   "execution_count": 27,
   "metadata": {},
   "outputs": [
    {
     "data": {
      "text/plain": [
       "1.0674416905942508e-09"
      ]
     },
     "execution_count": 27,
     "metadata": {},
     "output_type": "execute_result"
    }
   ],
   "source": [
    "cost2([ 0.36310363,  0.32264635,  0.89035402,  1.40894115, -1.37344747])"
   ]
  },
  {
   "cell_type": "markdown",
   "metadata": {},
   "source": [
    "### GLOBAL OPTI"
   ]
  },
  {
   "cell_type": "code",
   "execution_count": 15,
   "metadata": {},
   "outputs": [
    {
     "name": "stdout",
     "output_type": "stream",
     "text": [
      "Requirement already satisfied: simanneal in c:\\python310\\lib\\site-packages (0.5.0)\n"
     ]
    },
    {
     "name": "stderr",
     "output_type": "stream",
     "text": [
      "WARNING: You are using pip version 22.0.4; however, version 24.0 is available.\n",
      "You should consider upgrading via the 'C:\\Python310\\python.exe -m pip install --upgrade pip' command.\n"
     ]
    }
   ],
   "source": [
    "!pip install simanneal"
   ]
  },
  {
   "cell_type": "code",
   "execution_count": 16,
   "metadata": {},
   "outputs": [],
   "source": [
    "from simanneal import Annealer"
   ]
  },
  {
   "cell_type": "code",
   "execution_count": 79,
   "metadata": {},
   "outputs": [
    {
     "name": "stdout",
     "output_type": "stream",
     "text": [
      "Collecting simulated_annealing\n",
      "  Downloading simulated_annealing-0.4.0-py3-none-any.whl (8.9 kB)\n",
      "Collecting joblib>=0.17.0\n",
      "  Downloading joblib-1.3.2-py3-none-any.whl (302 kB)\n",
      "     ------------------------------------- 302.2/302.2 KB 19.5 MB/s eta 0:00:00\n",
      "Collecting scikit-learn>=0.16.0\n",
      "  Downloading scikit_learn-1.4.1.post1-cp310-cp310-win_amd64.whl (10.6 MB)\n",
      "     --------------------------------------- 10.6/10.6 MB 28.4 MB/s eta 0:00:00\n",
      "Requirement already satisfied: numpy>=1.9.0 in c:\\python310\\lib\\site-packages (from simulated_annealing) (1.22.4)\n",
      "Requirement already satisfied: scipy>=1.6.0 in c:\\python310\\lib\\site-packages (from scikit-learn>=0.16.0->simulated_annealing) (1.8.1)\n",
      "Collecting threadpoolctl>=2.0.0\n",
      "  Downloading threadpoolctl-3.3.0-py3-none-any.whl (17 kB)\n",
      "Installing collected packages: threadpoolctl, joblib, scikit-learn, simulated_annealing\n",
      "Successfully installed joblib-1.3.2 scikit-learn-1.4.1.post1 simulated_annealing-0.4.0 threadpoolctl-3.3.0\n"
     ]
    },
    {
     "name": "stderr",
     "output_type": "stream",
     "text": [
      "WARNING: You are using pip version 22.0.4; however, version 24.0 is available.\n",
      "You should consider upgrading via the 'C:\\Python310\\python.exe -m pip install --upgrade pip' command.\n"
     ]
    }
   ],
   "source": [
    "!pip install simulated_annealing"
   ]
  },
  {
   "cell_type": "code",
   "execution_count": 13,
   "metadata": {},
   "outputs": [
    {
     "name": "stderr",
     "output_type": "stream",
     "text": [
      " Temperature        Energy    Accept   Improve     Elapsed   Remaining\n",
      "     2.50000          7.53    82.20%    39.60%     0:00:00     0:00:00"
     ]
    },
    {
     "name": "stdout",
     "output_type": "stream",
     "text": [
      "Minimum trouvé pour x = 4.000003627496408\n",
      "Valeur minimale de f(x) = 1.0000000000131593\n"
     ]
    }
   ],
   "source": [
    "import random\n",
    "from simanneal import Annealer\n",
    "\n",
    "# Définition de la classe CustomAnnealer\n",
    "class CustomAnnealer(Annealer):\n",
    "    def __init__(self, state):\n",
    "        super(CustomAnnealer, self).__init__(state)\n",
    "\n",
    "    def move(self):\n",
    "        self.state += random.uniform(-1, 1)\n",
    "\n",
    "    def energy(self):\n",
    "        return f(self.state)\n",
    "\n",
    "# Définition de la fonction f(x)\n",
    "def f(x):\n",
    "    return x**2 - 8*x + 17\n",
    "\n",
    "# Configuration de l'algorithme de recuit simulé\n",
    "x0 = 0  # Point de départ\n",
    "annealer = CustomAnnealer(x0)\n",
    "# Exécution de l'algorithme\n",
    "state, energy = annealer.anneal()\n",
    "\n",
    "# Affichage des résultats\n",
    "print(\"Minimum trouvé pour x =\", state)\n",
    "print(\"Valeur minimale de f(x) =\", energy)\n"
   ]
  },
  {
   "cell_type": "code",
   "execution_count": 17,
   "metadata": {},
   "outputs": [
    {
     "ename": "ModuleNotFoundError",
     "evalue": "No module named 'asamin'",
     "output_type": "error",
     "traceback": [
      "\u001b[1;31m---------------------------------------------------------------------------\u001b[0m",
      "\u001b[1;31mModuleNotFoundError\u001b[0m                       Traceback (most recent call last)",
      "Input \u001b[1;32mIn [17]\u001b[0m, in \u001b[0;36m<cell line: 1>\u001b[1;34m()\u001b[0m\n\u001b[1;32m----> 1\u001b[0m \u001b[38;5;28;01mfrom\u001b[39;00m \u001b[38;5;21;01masamin\u001b[39;00m \u001b[38;5;28;01mimport\u001b[39;00m asamin\n\u001b[0;32m      3\u001b[0m \u001b[38;5;66;03m# Charger les données depuis le fichier data.txt\u001b[39;00m\n\u001b[0;32m      4\u001b[0m data \u001b[38;5;241m=\u001b[39m load(\u001b[38;5;124m'\u001b[39m\u001b[38;5;124mdata.txt\u001b[39m\u001b[38;5;124m'\u001b[39m)\n",
      "\u001b[1;31mModuleNotFoundError\u001b[0m: No module named 'asamin'"
     ]
    }
   ],
   "source": [
    "from asamin import asamin\n",
    "\n",
    "# Charger les données depuis le fichier data.txt\n",
    "data = load('data.txt')\n",
    "\n",
    "# Paramètres initiaux et bornes des paramètres\n",
    "x0 = [0.5, 0.5, 1, -0.5, 5]\n",
    "lb = [0, 0, 0, -1, 0]\n",
    "ub = [1, 1, 6, 1, 20]\n",
    "\n",
    "# Configuration des types de variables pour asamin\n",
    "xtype = [-1, -1, -1, -1, -1]\n",
    "\n",
    "# Optimisation avec asamin\n",
    "asamin('set', 'test_in_cost_func', 0)\n",
    "tic = time.time()\n",
    "result = asamin('minimize', 'costf_2', x0, lb, ub, xtype)\n",
    "toc = time.time() - tic\n",
    "\n",
    "# Récupération des résultats de l'optimisation\n",
    "x_opt = result[1]\n",
    "f = result[0]\n",
    "\n",
    "# Affichage de la solution\n",
    "v0, Vbar, vvol, rho, a = x_opt\n",
    "Heston_sol = [v0, Vbar, vvol, rho, (a + vvol**2) / (2 * Vbar)]\n",
    "print(\"Heston Solution:\", Heston_sol)\n",
    "print(\"Optimized parameters:\", x_opt)\n",
    "print(\"Minimum cost:\", f)"
   ]
  },
  {
   "cell_type": "code",
   "execution_count": 18,
   "metadata": {},
   "outputs": [
    {
     "name": "stderr",
     "output_type": "stream",
     "text": [
      " Temperature        Energy    Accept   Improve     Elapsed   Remaining\n",
      "C:\\Users\\Jason\\AppData\\Local\\Temp\\ipykernel_9316\\4240476898.py:32: IntegrationWarning: The maximum number of subdivisions (50) has been achieved.\n",
      "  If increasing the limit yields no improvement it is advised to analyze \n",
      "  the integrand in order to determine the difficulties.  If the position of a \n",
      "  local difficulty can be determined (singularity, discontinuity) one will \n",
      "  probably gain from splitting up the interval and calling the integrator \n",
      "  on the subranges.  Perhaps a special-purpose integrator should be used.\n",
      "  int2_result, _ = quad(lambda w: int2(w, s0, v0, vbar, a, vvol, r, rho, t, k), 0, 100)\n",
      "C:\\Users\\Jason\\AppData\\Local\\Temp\\ipykernel_9316\\4240476898.py:25: IntegrationWarning: The occurrence of roundoff error is detected, which prevents \n",
      "  the requested tolerance from being achieved.  The error may be \n",
      "  underestimated.\n",
      "  int1_result, _ = quad(lambda w: int1(w, s0, v0, vbar, a, vvol, r, rho, t, k), 0, 100)\n",
      "C:\\Users\\Jason\\AppData\\Local\\Temp\\ipykernel_9316\\4240476898.py:25: IntegrationWarning: The maximum number of subdivisions (50) has been achieved.\n",
      "  If increasing the limit yields no improvement it is advised to analyze \n",
      "  the integrand in order to determine the difficulties.  If the position of a \n",
      "  local difficulty can be determined (singularity, discontinuity) one will \n",
      "  probably gain from splitting up the interval and calling the integrator \n",
      "  on the subranges.  Perhaps a special-purpose integrator should be used.\n",
      "  int1_result, _ = quad(lambda w: int1(w, s0, v0, vbar, a, vvol, r, rho, t, k), 0, 100)\n",
      "C:\\Users\\Jason\\AppData\\Local\\Temp\\ipykernel_9316\\4240476898.py:32: IntegrationWarning: The integral is probably divergent, or slowly convergent.\n",
      "  int2_result, _ = quad(lambda w: int2(w, s0, v0, vbar, a, vvol, r, rho, t, k), 0, 100)\n",
      " 22800.27098          8.13    99.80%    49.60%     0:12:52    21:13:06C:\\Users\\Jason\\AppData\\Local\\Temp\\ipykernel_9316\\4240476898.py:32: IntegrationWarning: The occurrence of roundoff error is detected, which prevents \n",
      "  the requested tolerance from being achieved.  The error may be \n",
      "  underestimated.\n",
      "  int2_result, _ = quad(lambda w: int2(w, s0, v0, vbar, a, vvol, r, rho, t, k), 0, 100)\n",
      "     2.50000         15.34    99.60%    50.80%    53:14:57     0:00:00"
     ]
    },
    {
     "name": "stdout",
     "output_type": "stream",
     "text": [
      "Valeurs minimales des paramètres : [ 0.16810219  0.39262668  1.22072913  2.81959902 -0.36643614]\n",
      "Valeur minimale de l'erreur quadratique moyenne : 0.044069248824101785\n"
     ]
    }
   ],
   "source": [
    "from simanneal import Annealer\n",
    "import numpy as np\n",
    "\n",
    "# Définition de la classe CustomAnnealer\n",
    "class CustomAnnealer(Annealer):\n",
    "    def __init__(self, state, data):\n",
    "        self.data = data\n",
    "        super(CustomAnnealer, self).__init__(state)\n",
    "\n",
    "    def move(self):\n",
    "        self.state += np.random.uniform(-0.1, 0.1, size=self.state.shape)\n",
    "\n",
    "    def energy(self):\n",
    "        v0, vbar, a, eta, rho = self.state\n",
    "\n",
    "        # Calcul de l'erreur quadratique moyenne\n",
    "        mse = 0\n",
    "        for i in range(self.data.shape[0]):\n",
    "            mse += (call_heston_cf(self.data['Spot'].iloc[i], v0, vbar, a, eta, self.data['Interest_rate'].iloc[i], rho, self.data['Maturity'].iloc[i], self.data['Strike'].iloc[i], chfun_heston) - self.data['Mid'].iloc[i])**2\n",
    "        mse /= self.data.shape[0]\n",
    "        \n",
    "        return mse\n",
    "\n",
    "# Valeur initiale des paramètres\n",
    "x0 = np.array([0.5, 0.5, 1, 1, -0.5])\n",
    "\n",
    "# Création de l'objet Annealer avec la valeur initiale des paramètres et les données\n",
    "annealer = CustomAnnealer(x0, df)\n",
    "\n",
    "# Exécution de l'algorithme\n",
    "state, energy = annealer.anneal()\n",
    "\n",
    "# Affichage des résultats\n",
    "print(\"Valeurs minimales des paramètres :\", state)\n",
    "print(\"Valeur minimale de l'erreur quadratique moyenne :\", energy)\n"
   ]
  },
  {
   "cell_type": "code",
   "execution_count": 25,
   "metadata": {},
   "outputs": [],
   "source": [
    "def mse(params):\n",
    "    v0, vbar, a, eta, rho = params\n",
    "    mse = 0\n",
    "    for i in range(df.shape[0]):\n",
    "        mse += (call_heston_cf(df['Spot'].iloc[i], v0, vbar, a, eta, df['Interest_rate'].iloc[i], rho, df['Maturity'].iloc[i], df['Strike'].iloc[i], chfun_heston) - df['Mid'].iloc[i])**2\n",
    "    mse /= df.shape[0]\n",
    "        \n",
    "    return mse"
   ]
  },
  {
   "cell_type": "code",
   "execution_count": 28,
   "metadata": {},
   "outputs": [
    {
     "data": {
      "text/plain": [
       "0.04406924738505104"
      ]
     },
     "execution_count": 28,
     "metadata": {},
     "output_type": "execute_result"
    }
   ],
   "source": [
    "mse([ 0.16810219,  0.39262668,  1.22072913,  2.81959902, -0.36643614])"
   ]
  },
  {
   "cell_type": "code",
   "execution_count": 29,
   "metadata": {},
   "outputs": [
    {
     "data": {
      "text/plain": [
       "0.038419795339863845"
      ]
     },
     "execution_count": 29,
     "metadata": {},
     "output_type": "execute_result"
    }
   ],
   "source": [
    "mse([ 0.20281547,  0.29176096,  2.38525033,  3.84200107, -0.26687578])"
   ]
  },
  {
   "cell_type": "code",
   "execution_count": 30,
   "metadata": {},
   "outputs": [
    {
     "data": {
      "text/plain": [
       "0.17379469019892083"
      ]
     },
     "execution_count": 30,
     "metadata": {},
     "output_type": "execute_result"
    }
   ],
   "source": [
    "mse([ 0.01908501,  0.1977073,   4.58895302,  0.14271301, -7.11355577])"
   ]
  },
  {
   "cell_type": "code",
   "execution_count": null,
   "metadata": {},
   "outputs": [],
   "source": []
  }
 ],
 "metadata": {
  "kernelspec": {
   "display_name": "Python 3",
   "language": "python",
   "name": "python3"
  },
  "language_info": {
   "codemirror_mode": {
    "name": "ipython",
    "version": 3
   },
   "file_extension": ".py",
   "mimetype": "text/x-python",
   "name": "python",
   "nbconvert_exporter": "python",
   "pygments_lexer": "ipython3",
   "version": "3.10.4"
  },
  "vscode": {
   "interpreter": {
    "hash": "8a5edab282632443219e051e4ade2d1d5bbc671c781051bf1437897cbdfea0f1"
   }
  }
 },
 "nbformat": 4,
 "nbformat_minor": 2
}
